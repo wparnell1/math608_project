{
 "cells": [
  {
   "cell_type": "code",
   "execution_count": 21,
   "id": "552c9d35-4557-4439-9b9c-af651f4b8ad3",
   "metadata": {},
   "outputs": [],
   "source": [
    "import pandas as pd \n",
    "import glob\n",
    "import os\n",
    "from datetime import datetime\n",
    "from datetime import timedelta\n",
    "\n",
    "import numpy as np\n",
    "import plotnine as pn\n",
    "import patsy as pt\n",
    "from sklearn.linear_model import LinearRegression\n",
    "\n",
    "import hashlib"
   ]
  },
  {
   "cell_type": "code",
   "execution_count": 2,
   "id": "be58f181-63b1-426c-b6b9-cb2e5cd35fa9",
   "metadata": {},
   "outputs": [],
   "source": [
    "def extract_date(string):\n",
    "    file_name = string.rsplit('/', 1)[-1]\n",
    "    part_after_weekly = string.rsplit('_Weekly_', 1)[-1]\n",
    "    date_part = part_after_weekly.rsplit('_', 1)[0]\n",
    "    date_object = datetime.strptime(date_part, \"%m-%d-%Y\")\n",
    "    return date_object\n"
   ]
  },
  {
   "cell_type": "code",
   "execution_count": 3,
   "id": "16b33d51-3508-4090-9fff-84102c387dc9",
   "metadata": {},
   "outputs": [],
   "source": [
    "path = r'/Users/bparnell/Documents/classes/math_608/project/csv/sales'\n",
    "sales_files = glob.glob(os.path.join(path, '*.csv'))\n",
    "\n",
    "sales_df = pd.DataFrame()\n",
    "\n",
    "for file in sales_files:\n",
    "    \n",
    "    df = pd.read_csv(file, skiprows=1)\n",
    "    df['Date'] = extract_date(file)\n",
    "    \n",
    "    sales_df = pd.concat([sales_df, df])\n",
    "\n",
    "sales_df['next_week_date'] = sales_df['Date'] + timedelta(days=7)"
   ]
  },
  {
   "cell_type": "code",
   "execution_count": 4,
   "id": "fb004148-99a7-4e67-b6ce-a142598b6cdc",
   "metadata": {},
   "outputs": [],
   "source": [
    "path = r'/Users/bparnell/Documents/classes/math_608/project/csv/inventory'\n",
    "inventory_files = glob.glob(os.path.join(path, '*.csv'))\n",
    "\n",
    "inventory_df = pd.DataFrame()\n",
    "\n",
    "for file in inventory_files:\n",
    "    \n",
    "    df = pd.read_csv(file, skiprows=1, low_memory=False)\n",
    "    df['Date'] = extract_date(file)\n",
    "    \n",
    "    inventory_df = pd.concat([inventory_df, df])\n"
   ]
  },
  {
   "cell_type": "code",
   "execution_count": 5,
   "id": "27e01f30-7a26-42b7-87bc-b877f5c4d37c",
   "metadata": {},
   "outputs": [
    {
     "data": {
      "text/plain": [
       "ASIN                        object\n",
       "Product Title               object\n",
       "Brand                       object\n",
       "Ordered Revenue             object\n",
       "Ordered Units                int64\n",
       "Shipped Revenue             object\n",
       "Shipped COGS                object\n",
       "Shipped Units              float64\n",
       "Customer Returns           float64\n",
       "Date                datetime64[ns]\n",
       "next_week_date      datetime64[ns]\n",
       "dtype: object"
      ]
     },
     "execution_count": 5,
     "metadata": {},
     "output_type": "execute_result"
    }
   ],
   "source": [
    "sales_df.dtypes"
   ]
  },
  {
   "cell_type": "code",
   "execution_count": 6,
   "id": "fb10d914-446c-488f-adaa-612ddc7f171a",
   "metadata": {},
   "outputs": [
    {
     "data": {
      "text/plain": [
       "ASIN                                        object\n",
       "Product Title                               object\n",
       "Brand                                       object\n",
       "Sourceable Product OOS                      object\n",
       "Vendor Confirmation Rate                    object\n",
       "Net Received                                object\n",
       "Net Received Units                          object\n",
       "Open Purchase Order Quantity                object\n",
       "Receive Fill Rate %                         object\n",
       "Overall Vendor Lead Time (days)            float64\n",
       "Unfilled Customer Ordered Units            float64\n",
       "Aged 90+ Days Sellable Inventory            object\n",
       "Aged 90+ Days Sellable Units                object\n",
       "Sellable On Hand Inventory                  object\n",
       "Sellable On Hand Units                      object\n",
       "Unsellable On Hand Inventory                object\n",
       "Unsellable On Hand Units                   float64\n",
       "Sell-Through Rate                           object\n",
       "Unhealthy Inventory                         object\n",
       "Unhealthy Units                            float64\n",
       "Date                                datetime64[ns]\n",
       "dtype: object"
      ]
     },
     "execution_count": 6,
     "metadata": {},
     "output_type": "execute_result"
    }
   ],
   "source": [
    "inventory_df.dtypes"
   ]
  },
  {
   "cell_type": "code",
   "execution_count": 7,
   "id": "c87f77e7-2a71-4183-b12a-6f85f42b64dc",
   "metadata": {},
   "outputs": [],
   "source": [
    "# join inventory to sales\n",
    "merged_df = pd.merge(sales_df, inventory_df, on=['ASIN', 'Date'], how='inner')\n"
   ]
  },
  {
   "cell_type": "code",
   "execution_count": 8,
   "id": "144a86a4-a82d-4e53-89be-3f448750cf5b",
   "metadata": {},
   "outputs": [],
   "source": [
    "# join on next week date to get next week's unhealthy units\n",
    "merged_df = pd.merge(merged_df, inventory_df, left_on=['ASIN', 'next_week_date'], right_on=['ASIN', 'Date'], how='inner')"
   ]
  },
  {
   "cell_type": "code",
   "execution_count": 9,
   "id": "b3296ccd-5c2f-4232-a71a-43d03e480f3f",
   "metadata": {},
   "outputs": [
    {
     "data": {
      "text/html": [
       "<div>\n",
       "<style scoped>\n",
       "    .dataframe tbody tr th:only-of-type {\n",
       "        vertical-align: middle;\n",
       "    }\n",
       "\n",
       "    .dataframe tbody tr th {\n",
       "        vertical-align: top;\n",
       "    }\n",
       "\n",
       "    .dataframe thead th {\n",
       "        text-align: right;\n",
       "    }\n",
       "</style>\n",
       "<table border=\"1\" class=\"dataframe\">\n",
       "  <thead>\n",
       "    <tr style=\"text-align: right;\">\n",
       "      <th></th>\n",
       "      <th>ASIN</th>\n",
       "      <th>Product Title_x</th>\n",
       "      <th>Brand_x</th>\n",
       "      <th>Ordered Revenue</th>\n",
       "      <th>Ordered Units</th>\n",
       "      <th>Shipped Revenue</th>\n",
       "      <th>Shipped COGS</th>\n",
       "      <th>Shipped Units</th>\n",
       "      <th>Customer Returns</th>\n",
       "      <th>Date_x</th>\n",
       "      <th>...</th>\n",
       "      <th>Aged 90+ Days Sellable Inventory_y</th>\n",
       "      <th>Aged 90+ Days Sellable Units_y</th>\n",
       "      <th>Sellable On Hand Inventory_y</th>\n",
       "      <th>Sellable On Hand Units_y</th>\n",
       "      <th>Unsellable On Hand Inventory_y</th>\n",
       "      <th>Unsellable On Hand Units_y</th>\n",
       "      <th>Sell-Through Rate_y</th>\n",
       "      <th>Unhealthy Inventory_y</th>\n",
       "      <th>Unhealthy Units_y</th>\n",
       "      <th>Date_y</th>\n",
       "    </tr>\n",
       "  </thead>\n",
       "  <tbody>\n",
       "    <tr>\n",
       "      <th>0</th>\n",
       "      <td>B07CX7MY1W</td>\n",
       "      <td>Fifth Sun Men's Disney Pixar Toy Story Aliens ...</td>\n",
       "      <td>Fifth Sun</td>\n",
       "      <td>$1,773.46</td>\n",
       "      <td>108</td>\n",
       "      <td>$114.17</td>\n",
       "      <td>$78.75</td>\n",
       "      <td>7.0</td>\n",
       "      <td>NaN</td>\n",
       "      <td>2024-08-11</td>\n",
       "      <td>...</td>\n",
       "      <td>$33.75</td>\n",
       "      <td>3</td>\n",
       "      <td>$202.50</td>\n",
       "      <td>18</td>\n",
       "      <td>$0.00</td>\n",
       "      <td>0.0</td>\n",
       "      <td>32.00%</td>\n",
       "      <td>$0.00</td>\n",
       "      <td>0.0</td>\n",
       "      <td>2024-08-18</td>\n",
       "    </tr>\n",
       "    <tr>\n",
       "      <th>1</th>\n",
       "      <td>B0942TWFCF</td>\n",
       "      <td>Fortnite Boys' Victory Logo T-Shirt, Royal Blu...</td>\n",
       "      <td>Fortnite</td>\n",
       "      <td>$892.34</td>\n",
       "      <td>47</td>\n",
       "      <td>$949.28</td>\n",
       "      <td>$550.00</td>\n",
       "      <td>50.0</td>\n",
       "      <td>1.0</td>\n",
       "      <td>2024-08-11</td>\n",
       "      <td>...</td>\n",
       "      <td>$110.00</td>\n",
       "      <td>10</td>\n",
       "      <td>$209.00</td>\n",
       "      <td>20</td>\n",
       "      <td>$0.00</td>\n",
       "      <td>0.0</td>\n",
       "      <td>67.86%</td>\n",
       "      <td>$0.00</td>\n",
       "      <td>0.0</td>\n",
       "      <td>2024-08-18</td>\n",
       "    </tr>\n",
       "    <tr>\n",
       "      <th>2</th>\n",
       "      <td>B09B1K32DW</td>\n",
       "      <td>Disney Men's Characters Crew Crop T-Shirt, Whi...</td>\n",
       "      <td>Disney</td>\n",
       "      <td>$870.47</td>\n",
       "      <td>48</td>\n",
       "      <td>$866.12</td>\n",
       "      <td>$435.38</td>\n",
       "      <td>39.0</td>\n",
       "      <td>9.0</td>\n",
       "      <td>2024-08-11</td>\n",
       "      <td>...</td>\n",
       "      <td>$2,395.31</td>\n",
       "      <td>224</td>\n",
       "      <td>$2,710.31</td>\n",
       "      <td>253</td>\n",
       "      <td>$22.50</td>\n",
       "      <td>2.0</td>\n",
       "      <td>8.83%</td>\n",
       "      <td>$0.00</td>\n",
       "      <td>0.0</td>\n",
       "      <td>2024-08-18</td>\n",
       "    </tr>\n",
       "    <tr>\n",
       "      <th>3</th>\n",
       "      <td>B0CBL82GXY</td>\n",
       "      <td>Disney Men's Mickey and Friends Button Down Sh...</td>\n",
       "      <td>Disney</td>\n",
       "      <td>$769.78</td>\n",
       "      <td>22</td>\n",
       "      <td>$629.82</td>\n",
       "      <td>$405.00</td>\n",
       "      <td>18.0</td>\n",
       "      <td>6.0</td>\n",
       "      <td>2024-08-11</td>\n",
       "      <td>...</td>\n",
       "      <td>$22.50</td>\n",
       "      <td>1</td>\n",
       "      <td>$112.50</td>\n",
       "      <td>5</td>\n",
       "      <td>$22.50</td>\n",
       "      <td>1.0</td>\n",
       "      <td>-14.29%</td>\n",
       "      <td>$0.00</td>\n",
       "      <td>0.0</td>\n",
       "      <td>2024-08-18</td>\n",
       "    </tr>\n",
       "    <tr>\n",
       "      <th>4</th>\n",
       "      <td>B00JV2QS40</td>\n",
       "      <td>DC Comics Men's Batman Basic Logo T-Shirt, Bla...</td>\n",
       "      <td>DC Comics</td>\n",
       "      <td>$726.63</td>\n",
       "      <td>51</td>\n",
       "      <td>$783.65</td>\n",
       "      <td>$412.00</td>\n",
       "      <td>55.0</td>\n",
       "      <td>3.0</td>\n",
       "      <td>2024-08-11</td>\n",
       "      <td>...</td>\n",
       "      <td>$1,239.20</td>\n",
       "      <td>169</td>\n",
       "      <td>$1,255.20</td>\n",
       "      <td>171</td>\n",
       "      <td>$0.00</td>\n",
       "      <td>0.0</td>\n",
       "      <td>26.67%</td>\n",
       "      <td>$0.00</td>\n",
       "      <td>0.0</td>\n",
       "      <td>2024-08-18</td>\n",
       "    </tr>\n",
       "  </tbody>\n",
       "</table>\n",
       "<p>5 rows × 50 columns</p>\n",
       "</div>"
      ],
      "text/plain": [
       "         ASIN                                    Product Title_x    Brand_x  \\\n",
       "0  B07CX7MY1W  Fifth Sun Men's Disney Pixar Toy Story Aliens ...  Fifth Sun   \n",
       "1  B0942TWFCF  Fortnite Boys' Victory Logo T-Shirt, Royal Blu...   Fortnite   \n",
       "2  B09B1K32DW  Disney Men's Characters Crew Crop T-Shirt, Whi...     Disney   \n",
       "3  B0CBL82GXY  Disney Men's Mickey and Friends Button Down Sh...     Disney   \n",
       "4  B00JV2QS40  DC Comics Men's Batman Basic Logo T-Shirt, Bla...  DC Comics   \n",
       "\n",
       "  Ordered Revenue  Ordered Units Shipped Revenue Shipped COGS  Shipped Units  \\\n",
       "0       $1,773.46            108         $114.17       $78.75            7.0   \n",
       "1         $892.34             47         $949.28      $550.00           50.0   \n",
       "2         $870.47             48         $866.12      $435.38           39.0   \n",
       "3         $769.78             22         $629.82      $405.00           18.0   \n",
       "4         $726.63             51         $783.65      $412.00           55.0   \n",
       "\n",
       "   Customer Returns     Date_x  ... Aged 90+ Days Sellable Inventory_y  \\\n",
       "0               NaN 2024-08-11  ...                             $33.75   \n",
       "1               1.0 2024-08-11  ...                            $110.00   \n",
       "2               9.0 2024-08-11  ...                          $2,395.31   \n",
       "3               6.0 2024-08-11  ...                             $22.50   \n",
       "4               3.0 2024-08-11  ...                          $1,239.20   \n",
       "\n",
       "  Aged 90+ Days Sellable Units_y Sellable On Hand Inventory_y  \\\n",
       "0                              3                      $202.50   \n",
       "1                             10                      $209.00   \n",
       "2                            224                    $2,710.31   \n",
       "3                              1                      $112.50   \n",
       "4                            169                    $1,255.20   \n",
       "\n",
       "  Sellable On Hand Units_y Unsellable On Hand Inventory_y  \\\n",
       "0                       18                          $0.00   \n",
       "1                       20                          $0.00   \n",
       "2                      253                         $22.50   \n",
       "3                        5                         $22.50   \n",
       "4                      171                          $0.00   \n",
       "\n",
       "  Unsellable On Hand Units_y Sell-Through Rate_y Unhealthy Inventory_y  \\\n",
       "0                        0.0              32.00%                 $0.00   \n",
       "1                        0.0              67.86%                 $0.00   \n",
       "2                        2.0               8.83%                 $0.00   \n",
       "3                        1.0             -14.29%                 $0.00   \n",
       "4                        0.0              26.67%                 $0.00   \n",
       "\n",
       "  Unhealthy Units_y     Date_y  \n",
       "0               0.0 2024-08-18  \n",
       "1               0.0 2024-08-18  \n",
       "2               0.0 2024-08-18  \n",
       "3               0.0 2024-08-18  \n",
       "4               0.0 2024-08-18  \n",
       "\n",
       "[5 rows x 50 columns]"
      ]
     },
     "execution_count": 9,
     "metadata": {},
     "output_type": "execute_result"
    }
   ],
   "source": [
    "merged_df.head()"
   ]
  },
  {
   "cell_type": "code",
   "execution_count": 61,
   "id": "f7187f41-ea56-4b50-ab97-d175d03195a0",
   "metadata": {},
   "outputs": [],
   "source": []
  },
  {
   "cell_type": "code",
   "execution_count": 50,
   "id": "af4d2191-b5a2-478d-a050-72564b7f5112",
   "metadata": {},
   "outputs": [],
   "source": [
    "df = merged_df[['ASIN', 'Date_x', 'Ordered Units', 'Shipped Units', 'Net Received Units_x', 'Open Purchase Order Quantity_x', 'Aged 90+ Days Sellable Units_x', 'Sellable On Hand Units_x', 'Unsellable On Hand Units_x', 'Unhealthy Units_y']]\n",
    "df.columns = df.columns.str.replace(' ', '_').str.replace('_x', '').str.replace('_y','').str.replace('+','')\n",
    "df = df.dropna()\n",
    "df['ASIN'] = df['ASIN'].apply(lambda x: hashlib.sha256(x.encode()).hexdigest())"
   ]
  },
  {
   "cell_type": "code",
   "execution_count": 51,
   "id": "b3fc5812-3037-4a07-ae6e-b21e45dfcba3",
   "metadata": {},
   "outputs": [],
   "source": [
    "df.to_csv(\"unhealthy_units_project.csv\")"
   ]
  },
  {
   "cell_type": "code",
   "execution_count": 41,
   "id": "41ee2ff1-7f5b-45cf-b41e-a212fc05b71b",
   "metadata": {},
   "outputs": [
    {
     "data": {
      "text/plain": [
       "ASIN                                    object\n",
       "Date                            datetime64[ns]\n",
       "Ordered_Units                            int64\n",
       "Shipped_Units                          float64\n",
       "Net_Received_Units                      object\n",
       "Open_Purchase_Order_Quantity            object\n",
       "Aged_90_Days_Sellable_Units             object\n",
       "Sellable_On_Hand_Units                  object\n",
       "Unsellable_On_Hand_Units               float64\n",
       "Unhealthy_Units                        float64\n",
       "dtype: object"
      ]
     },
     "execution_count": 41,
     "metadata": {},
     "output_type": "execute_result"
    }
   ],
   "source": [
    "df.dtypes"
   ]
  },
  {
   "cell_type": "code",
   "execution_count": 42,
   "id": "7fdf58a2-b8ca-40eb-a6e7-9b566e669b8f",
   "metadata": {},
   "outputs": [
    {
     "name": "stdout",
     "output_type": "stream",
     "text": [
      "skip\n",
      "skip\n",
      "int64\n",
      "float64\n",
      "object\n",
      "object\n",
      "object\n",
      "object\n",
      "float64\n",
      "float64\n"
     ]
    }
   ],
   "source": [
    "for item in df.columns:\n",
    "    if item in ['ASIN', 'Date']:\n",
    "        print('skip')\n",
    "    else:\n",
    "        print(df[item].dtype)\n",
    "        if df[item].dtype == 'object':\n",
    "            df[item] = pd.to_numeric(df[item].str.replace(',',''))\n",
    "        else:\n",
    "            df[item] = pd.to_numeric(df[item])\n",
    "\n",
    "# pd.to_numeric(df['Shipped_Units'])"
   ]
  },
  {
   "cell_type": "code",
   "execution_count": 43,
   "id": "2ea3d755-8ddc-4f28-80a8-17af2498a062",
   "metadata": {},
   "outputs": [
    {
     "data": {
      "text/plain": [
       "ASIN                                    object\n",
       "Date                            datetime64[ns]\n",
       "Ordered_Units                            int64\n",
       "Shipped_Units                          float64\n",
       "Net_Received_Units                     float64\n",
       "Open_Purchase_Order_Quantity             int64\n",
       "Aged_90_Days_Sellable_Units              int64\n",
       "Sellable_On_Hand_Units                   int64\n",
       "Unsellable_On_Hand_Units               float64\n",
       "Unhealthy_Units                        float64\n",
       "dtype: object"
      ]
     },
     "execution_count": 43,
     "metadata": {},
     "output_type": "execute_result"
    }
   ],
   "source": [
    "df.dtypes"
   ]
  },
  {
   "cell_type": "code",
   "execution_count": 44,
   "id": "d43d3335-197f-4230-b8c2-59a5285ce22d",
   "metadata": {},
   "outputs": [
    {
     "data": {
      "image/png": "[encoded data removed]",
      "text/plain": [
       "<Figure size 640x480 with 1 Axes>"
      ]
     },
     "metadata": {
      "image/png": {
       "height": 480,
       "width": 640
      }
     },
     "output_type": "display_data"
    },
    {
     "data": {
      "text/plain": [
       "<Figure Size: (640 x 480)>"
      ]
     },
     "execution_count": 44,
     "metadata": {},
     "output_type": "execute_result"
    }
   ],
   "source": [
    "pn.ggplot(df, pn.aes(\"Aged_90_Days_Sellable_Units\", \"Unhealthy_Units\")) + \\\n",
    "    pn.geom_point() + \\\n",
    "    pn.geom_smooth(method = \"lm\", se = False)"
   ]
  },
  {
   "cell_type": "code",
   "execution_count": 45,
   "id": "7a917011-563b-4a96-8e5c-218413acbfc2",
   "metadata": {},
   "outputs": [
    {
     "data": {
      "text/plain": [
       "Index(['ASIN', 'Date', 'Ordered_Units', 'Shipped_Units', 'Net_Received_Units',\n",
       "       'Open_Purchase_Order_Quantity', 'Aged_90_Days_Sellable_Units',\n",
       "       'Sellable_On_Hand_Units', 'Unsellable_On_Hand_Units',\n",
       "       'Unhealthy_Units'],\n",
       "      dtype='object')"
      ]
     },
     "execution_count": 45,
     "metadata": {},
     "output_type": "execute_result"
    }
   ],
   "source": [
    "df.columns"
   ]
  },
  {
   "cell_type": "code",
   "execution_count": 46,
   "id": "e36aad14-d6e5-487f-9dee-415a2be2ca04",
   "metadata": {},
   "outputs": [],
   "source": [
    "df = df.fillna(0)"
   ]
  },
  {
   "cell_type": "code",
   "execution_count": 47,
   "id": "7d540c56-f2bc-4c76-b5b5-9b7b619e8ef5",
   "metadata": {},
   "outputs": [],
   "source": [
    "y, X = pt.dmatrices(\"Unhealthy_Units ~ Ordered_Units + Shipped_Units + Net_Received_Units + Open_Purchase_Order_Quantity + Aged_90_Days_Sellable_Units + Sellable_On_Hand_Units + Unsellable_On_Hand_Units\", df) # y ~ x\n",
    "fit = LinearRegression(fit_intercept = False).fit(X, y)\n",
    "\n",
    "\n",
    "coeffs = fit.coef_[0]\n",
    "coeffs\n",
    "\n",
    "df['estimated_unhealthy_units'] = coeffs[0] + coeffs[1] * df['Ordered_Units'] + coeffs[2] * df['Shipped_Units'] \\\n",
    "    + coeffs[3] * df['Net_Received_Units'] + coeffs[4] * df['Open_Purchase_Order_Quantity'] \\\n",
    "    + coeffs[5] * df['Aged_90_Days_Sellable_Units'] + coeffs[6] * df['Sellable_On_Hand_Units'] \\\n",
    "    + coeffs[7] * df['Unsellable_On_Hand_Units']\n",
    "# split these coefficients out and use df broadcasting to create a new column in the df with the predicted unhealthy units"
   ]
  },
  {
   "cell_type": "code",
   "execution_count": 48,
   "id": "bb88f520-8603-4ffd-9b05-a4707320f0c9",
   "metadata": {},
   "outputs": [],
   "source": [
    "df.to_csv('project_linear_regression.csv')"
   ]
  }
 ],
 "metadata": {
  "kernelspec": {
   "display_name": "Python 3 (ipykernel)",
   "language": "python",
   "name": "python3"
  },
  "language_info": {
   "codemirror_mode": {
    "name": "ipython",
    "version": 3
   },
   "file_extension": ".py",
   "mimetype": "text/x-python",
   "name": "python",
   "nbconvert_exporter": "python",
   "pygments_lexer": "ipython3",
   "version": "3.8.3"
  }
 },
 "nbformat": 4,
 "nbformat_minor": 5
}
